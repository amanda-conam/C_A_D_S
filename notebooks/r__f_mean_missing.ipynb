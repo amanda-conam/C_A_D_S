---
title: "R Notebook"
output: html_notebook
---
```{r}
install.packages('randomForest')
install.packages('caTools')
install.packages('e1071')
install.packages('caret')
install.packages('xlsx')
install.packages('rpart')
install.packages('ggplot2')
#install.packages('devtools')
install.packages('esquisse')
```


```{r}
library(readxl)
library(caret)
library(forcats)
library(e1071)
library(caTools)
library(randomForest)
library(readxl)
library(rpart)
library(ggplot2)
library(esquisse)
```


```{r}

```


```{r}
x+y
```


```{r}
```


```{r}
```


```{r}
```

