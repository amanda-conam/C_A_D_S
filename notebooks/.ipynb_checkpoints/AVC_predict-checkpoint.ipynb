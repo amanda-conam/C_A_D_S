{
 "cells": [
  {
   "cell_type": "code",
   "execution_count": null,
   "id": "2a6cff90",
   "metadata": {},
   "outputs": [],
   "source": [
    "# Random_forest\n",
    "# "
   ]
  },
  {
   "cell_type": "code",
   "execution_count": null,
   "id": "efd0d4bf",
   "metadata": {},
   "outputs": [],
   "source": [
    "#bibliotecas necessárias\n",
    "install.packages('randomForest')\n",
    "install.packages('catools')\n",
    "install.packages('e1071')\n",
    "install.packages('caret')\n",
    "\n",
    "library(caret)\n",
    "library(forcats)\n",
    "library(e1071)\n",
    "library(caTools)\n",
    "library(randomForest)"
   ]
  },
  {
   "cell_type": "code",
   "execution_count": null,
   "id": "393ae2cc",
   "metadata": {},
   "outputs": [],
   "source": [
    "#arquivo"
   ]
  },
  {
   "cell_type": "code",
   "execution_count": null,
   "id": "e8747ae6",
   "metadata": {},
   "outputs": [],
   "source": [
    "# tratamento da base"
   ]
  },
  {
   "cell_type": "code",
   "execution_count": null,
   "id": "0651d2e8",
   "metadata": {},
   "outputs": [],
   "source": [
    "#pre-processamento"
   ]
  },
  {
   "cell_type": "code",
   "execution_count": null,
   "id": "9f3cfdf7",
   "metadata": {},
   "outputs": [],
   "source": []
  },
  {
   "cell_type": "code",
   "execution_count": null,
   "id": "17907517",
   "metadata": {},
   "outputs": [],
   "source": []
  }
 ],
 "metadata": {
  "kernelspec": {
   "display_name": "R",
   "language": "R",
   "name": "ir"
  },
  "language_info": {
   "codemirror_mode": "r",
   "file_extension": ".r",
   "mimetype": "text/x-r-source",
   "name": "R",
   "pygments_lexer": "r",
   "version": "3.6.1"
  }
 },
 "nbformat": 4,
 "nbformat_minor": 5
}
