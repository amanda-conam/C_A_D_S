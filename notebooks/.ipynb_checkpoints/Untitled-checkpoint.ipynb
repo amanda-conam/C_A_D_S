{
 "cells": [
  {
   "cell_type": "code",
   "execution_count": 2,
   "id": "52f0c35d",
   "metadata": {},
   "outputs": [],
   "source": [
    "# Random_forest\n",
    "# "
   ]
  },
  {
   "cell_type": "code",
   "execution_count": null,
   "id": "93231d50",
   "metadata": {},
   "outputs": [],
   "source": [
    "#bibliotecas necessárias\n",
    "install.packages('randomForest')\n",
    "install.packages('catools')\n",
    "install.packages('e1071')\n",
    "install.packages('caret')\n",
    "\n",
    "library(caret)\n",
    "library(forcats)\n",
    "library(e1071)\n",
    "library(caTools)\n",
    "library(randomForest)"
   ]
  },
  {
   "cell_type": "code",
   "execution_count": null,
   "id": "67ef6878",
   "metadata": {},
   "outputs": [],
   "source": [
    "#arquivo"
   ]
  },
  {
   "cell_type": "code",
   "execution_count": null,
   "id": "aa8e4544",
   "metadata": {},
   "outputs": [],
   "source": [
    "# tratamento da base"
   ]
  },
  {
   "cell_type": "code",
   "execution_count": null,
   "id": "82b6ace7",
   "metadata": {},
   "outputs": [],
   "source": [
    "#pre-processamento"
   ]
  },
  {
   "cell_type": "code",
   "execution_count": null,
   "id": "401bf2ad",
   "metadata": {},
   "outputs": [],
   "source": []
  }
 ],
 "metadata": {
  "kernelspec": {
   "display_name": "R",
   "language": "R",
   "name": "ir"
  },
  "language_info": {
   "codemirror_mode": "r",
   "file_extension": ".r",
   "mimetype": "text/x-r-source",
   "name": "R",
   "pygments_lexer": "r",
   "version": "3.6.1"
  }
 },
 "nbformat": 4,
 "nbformat_minor": 5
}
