{
 "cells": [
  {
   "cell_type": "code",
   "execution_count": 4,
   "id": "c04e284a",
   "metadata": {},
   "outputs": [],
   "source": [
    "# teste linguagem R Jupter"
   ]
  },
  {
   "cell_type": "code",
   "execution_count": 5,
   "id": "3551bd24",
   "metadata": {},
   "outputs": [],
   "source": [
    "base<- 45"
   ]
  },
  {
   "cell_type": "code",
   "execution_count": 10,
   "id": "6044c1fd",
   "metadata": {},
   "outputs": [],
   "source": [
    "teste<- 44"
   ]
  },
  {
   "cell_type": "code",
   "execution_count": 12,
   "id": "8957a052",
   "metadata": {},
   "outputs": [
    {
     "data": {
      "text/html": [
       "89"
      ],
      "text/latex": [
       "89"
      ],
      "text/markdown": [
       "89"
      ],
      "text/plain": [
       "[1] 89"
      ]
     },
     "metadata": {},
     "output_type": "display_data"
    }
   ],
   "source": [
    "base+ teste"
   ]
  },
  {
   "cell_type": "code",
   "execution_count": null,
   "id": "88f4ac60",
   "metadata": {},
   "outputs": [],
   "source": []
  }
 ],
 "metadata": {
  "kernelspec": {
   "display_name": "R",
   "language": "R",
   "name": "ir"
  },
  "language_info": {
   "codemirror_mode": "r",
   "file_extension": ".r",
   "mimetype": "text/x-r-source",
   "name": "R",
   "pygments_lexer": "r",
   "version": "3.6.1"
  }
 },
 "nbformat": 4,
 "nbformat_minor": 5
}
